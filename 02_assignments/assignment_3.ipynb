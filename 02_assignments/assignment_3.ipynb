{
 "cells": [
  {
   "cell_type": "markdown",
   "id": "7b0bcac6-5086-4f4e-928a-570a9ff7ae58",
   "metadata": {},
   "source": [
    "# Assignment 3"
   ]
  },
  {
   "cell_type": "markdown",
   "id": "5fce0350-2a17-4e93-8d4c-0b8748fdfc32",
   "metadata": {},
   "source": [
    "As before, if a question can be answered with 'yes/no', or a numeric value, you may simply state as much. If you incorporate code from the internet (which is not required and generally not advisable), please cite the source within your code (providing a URL is sufficient).\n",
    "\n",
    "We will go through comparable code and concepts in the live learning session. If you run into trouble, start by using the help `help()` function in Python, to get information about the datasets and function in question. The internet is also a great resource when coding (though note that no outside searches are required by the assignment!). If you do incorporate code from the internet, please cite the source within your code (providing a URL is sufficient).\n",
    "\n",
    "Please bring questions that you cannot work out on your own to office hours, work periods or share with your peers on Slack. We will work with you through the issue."
   ]
  },
  {
   "cell_type": "code",
   "execution_count": 1,
   "id": "b92f7c91",
   "metadata": {},
   "outputs": [],
   "source": [
    "import numpy as np\n",
    "import pandas as pd\n",
    "import matplotlib.pyplot as plt\n",
    "import statsmodels.api as sm"
   ]
  },
  {
   "cell_type": "markdown",
   "id": "d7fff1dd-e4ce-4a60-96a0-d08136e9bf5e",
   "metadata": {},
   "source": [
    "### Question 1: Resampling via Bootstrapping\n",
    "\n",
    "Now, we'll use the `iris` dataset, which we will add to Python using the `statsmodels` library. As always, start by reviewing a description of the dataset, by printing the dataset."
   ]
  },
  {
   "cell_type": "code",
   "execution_count": 21,
   "id": "47f4dcf5-0d4c-41ea-892d-d9f2c1aa1859",
   "metadata": {},
   "outputs": [
    {
     "data": {
      "text/html": [
       "<div>\n",
       "<style scoped>\n",
       "    .dataframe tbody tr th:only-of-type {\n",
       "        vertical-align: middle;\n",
       "    }\n",
       "\n",
       "    .dataframe tbody tr th {\n",
       "        vertical-align: top;\n",
       "    }\n",
       "\n",
       "    .dataframe thead th {\n",
       "        text-align: right;\n",
       "    }\n",
       "</style>\n",
       "<table border=\"1\" class=\"dataframe\">\n",
       "  <thead>\n",
       "    <tr style=\"text-align: right;\">\n",
       "      <th></th>\n",
       "      <th>Sepal.Length</th>\n",
       "      <th>Sepal.Width</th>\n",
       "      <th>Petal.Length</th>\n",
       "      <th>Petal.Width</th>\n",
       "      <th>Species</th>\n",
       "    </tr>\n",
       "  </thead>\n",
       "  <tbody>\n",
       "    <tr>\n",
       "      <th>0</th>\n",
       "      <td>5.1</td>\n",
       "      <td>3.5</td>\n",
       "      <td>1.4</td>\n",
       "      <td>0.2</td>\n",
       "      <td>setosa</td>\n",
       "    </tr>\n",
       "    <tr>\n",
       "      <th>1</th>\n",
       "      <td>4.9</td>\n",
       "      <td>3.0</td>\n",
       "      <td>1.4</td>\n",
       "      <td>0.2</td>\n",
       "      <td>setosa</td>\n",
       "    </tr>\n",
       "    <tr>\n",
       "      <th>2</th>\n",
       "      <td>4.7</td>\n",
       "      <td>3.2</td>\n",
       "      <td>1.3</td>\n",
       "      <td>0.2</td>\n",
       "      <td>setosa</td>\n",
       "    </tr>\n",
       "    <tr>\n",
       "      <th>3</th>\n",
       "      <td>4.6</td>\n",
       "      <td>3.1</td>\n",
       "      <td>1.5</td>\n",
       "      <td>0.2</td>\n",
       "      <td>setosa</td>\n",
       "    </tr>\n",
       "    <tr>\n",
       "      <th>4</th>\n",
       "      <td>5.0</td>\n",
       "      <td>3.6</td>\n",
       "      <td>1.4</td>\n",
       "      <td>0.2</td>\n",
       "      <td>setosa</td>\n",
       "    </tr>\n",
       "    <tr>\n",
       "      <th>...</th>\n",
       "      <td>...</td>\n",
       "      <td>...</td>\n",
       "      <td>...</td>\n",
       "      <td>...</td>\n",
       "      <td>...</td>\n",
       "    </tr>\n",
       "    <tr>\n",
       "      <th>145</th>\n",
       "      <td>6.7</td>\n",
       "      <td>3.0</td>\n",
       "      <td>5.2</td>\n",
       "      <td>2.3</td>\n",
       "      <td>virginica</td>\n",
       "    </tr>\n",
       "    <tr>\n",
       "      <th>146</th>\n",
       "      <td>6.3</td>\n",
       "      <td>2.5</td>\n",
       "      <td>5.0</td>\n",
       "      <td>1.9</td>\n",
       "      <td>virginica</td>\n",
       "    </tr>\n",
       "    <tr>\n",
       "      <th>147</th>\n",
       "      <td>6.5</td>\n",
       "      <td>3.0</td>\n",
       "      <td>5.2</td>\n",
       "      <td>2.0</td>\n",
       "      <td>virginica</td>\n",
       "    </tr>\n",
       "    <tr>\n",
       "      <th>148</th>\n",
       "      <td>6.2</td>\n",
       "      <td>3.4</td>\n",
       "      <td>5.4</td>\n",
       "      <td>2.3</td>\n",
       "      <td>virginica</td>\n",
       "    </tr>\n",
       "    <tr>\n",
       "      <th>149</th>\n",
       "      <td>5.9</td>\n",
       "      <td>3.0</td>\n",
       "      <td>5.1</td>\n",
       "      <td>1.8</td>\n",
       "      <td>virginica</td>\n",
       "    </tr>\n",
       "  </tbody>\n",
       "</table>\n",
       "<p>150 rows × 5 columns</p>\n",
       "</div>"
      ],
      "text/plain": [
       "     Sepal.Length  Sepal.Width  Petal.Length  Petal.Width    Species\n",
       "0             5.1          3.5           1.4          0.2     setosa\n",
       "1             4.9          3.0           1.4          0.2     setosa\n",
       "2             4.7          3.2           1.3          0.2     setosa\n",
       "3             4.6          3.1           1.5          0.2     setosa\n",
       "4             5.0          3.6           1.4          0.2     setosa\n",
       "..            ...          ...           ...          ...        ...\n",
       "145           6.7          3.0           5.2          2.3  virginica\n",
       "146           6.3          2.5           5.0          1.9  virginica\n",
       "147           6.5          3.0           5.2          2.0  virginica\n",
       "148           6.2          3.4           5.4          2.3  virginica\n",
       "149           5.9          3.0           5.1          1.8  virginica\n",
       "\n",
       "[150 rows x 5 columns]"
      ]
     },
     "execution_count": 21,
     "metadata": {},
     "output_type": "execute_result"
    }
   ],
   "source": [
    "# Import\n",
    "iris = sm.datasets.get_rdataset('iris', 'datasets')\n",
    "df = pd.DataFrame(iris.data)\n",
    "df"
   ]
  },
  {
   "cell_type": "markdown",
   "id": "7717a32c",
   "metadata": {},
   "source": [
    "_(i)_ Create an `alpha_func(D, idx)` function which takes the `Sepal`'s `width` and `length` to calculate for alpha"
   ]
  },
  {
   "cell_type": "code",
   "execution_count": 30,
   "id": "f3da5483",
   "metadata": {},
   "outputs": [],
   "source": [
    "# Define the alpha_func function\n",
    "def alpha_func(D, idx):\n",
    " \n",
    "# Calculate the covariance matrix for Sepal width and Sepal length at the given index/indices\n",
    "    cov = np.cov(D[['Sepal.Width', 'Sepal.Length']].loc[idx], rowvar=False)\n",
    "    # Compute alpha using the elements of the covariance matrix\n",
    "    return (cov[1, 1] - cov[0, 1]) / (cov[0, 0] + cov[1, 1] - 2 * cov[0, 1])\n"
   ]
  },
  {
   "cell_type": "markdown",
   "id": "ff94d66b",
   "metadata": {},
   "source": [
    "Test the code below"
   ]
  },
  {
   "cell_type": "code",
   "execution_count": 27,
   "id": "eda715cd",
   "metadata": {},
   "outputs": [
    {
     "data": {
      "text/plain": [
       "0.6189498510165619"
      ]
     },
     "execution_count": 27,
     "metadata": {},
     "output_type": "execute_result"
    }
   ],
   "source": [
    "alpha_func(df, range(100))"
   ]
  },
  {
   "cell_type": "code",
   "execution_count": 31,
   "id": "22c0bc4d",
   "metadata": {},
   "outputs": [
    {
     "name": "stdout",
     "output_type": "stream",
     "text": [
      "0.7580390244311441\n"
     ]
    }
   ],
   "source": [
    "# Calculate alpha values for all rows in the dataframe using the alpha_func\n",
    "alpha_original = alpha_func(df, range(len(df)))\n",
    "print(alpha_original)"
   ]
  },
  {
   "cell_type": "markdown",
   "id": "f338b14e",
   "metadata": {},
   "source": [
    "_(ii)_ Construct a new bootstrap data set and recompute alpha"
   ]
  },
  {
   "cell_type": "code",
   "execution_count": 37,
   "id": "34ee835f",
   "metadata": {},
   "outputs": [
    {
     "name": "stdout",
     "output_type": "stream",
     "text": [
      "Bootstrap alpha values: 0.6675354865158225\n"
     ]
    }
   ],
   "source": [
    "# Create a random number generator with a seed value of 0\n",
    "rng = np.random.default_rng(0)\n",
    "\n",
    "# Generate a bootstrap sample by randomly selecting indices from 0 to 99 with replacement\n",
    "alpha_bootstrap = alpha_func(df, rng.choice(100, 100, replace=True))\n",
    "\n",
    "print(f\"Bootstrap alpha values: {alpha_bootstrap}\")\n"
   ]
  },
  {
   "cell_type": "markdown",
   "id": "056080ff-7aec-41aa-bb61-763b390e4cf2",
   "metadata": {},
   "source": [
    "Imagine we are analysts working for a shipping company. The company wants to know the average length of iris' petals, to inform space allotment on an upcoming shipment. The relevant variable in the dataset is `Sepal.Length`. \n",
    "\n",
    "_(iii)_ Why is it (perhaps) not sufficient to simply calculate the mean of `Sepal.Length`? What more information will preforming a bootstrap provide to us?  \n",
    "\n",
    "Answer: Calculating the mean value of Sepal.Length provides a single summary statistic that describes the central tendency of the data. However, these statistics alone may not provide a complete picture of the distribution of the underlying data or its variability. Performing an initial analysis provides some additional information:\n",
    "1. Estimation of Variability;\n",
    "2. Confidence Intervals;\n",
    "3. Bias Assessment;\n",
    "4. Robustness to Assumptions;\n",
    "5. Estimation of Other Statistics\n",
    "\n",
    "\n",
    "_(iv)_ We can perform bootstrapping in Python by defining a simple function using `boot_SE()` for computing the bootstrap standard error. Remember, because bootstrapping involves randomness, we must first set a seed for reproducibility!"
   ]
  },
  {
   "cell_type": "code",
   "execution_count": 54,
   "id": "77540f76-7747-4dba-8e77-e1ded54af536",
   "metadata": {},
   "outputs": [],
   "source": [
    "# Add your code here to set the seed\n",
    "# Initialize an empty list to store bootstrap values\n",
    "bootstrap_values = [] \n",
    "def boot_SE(D, B=1000, seed=0):\n",
    "    # Compute the bootstrap standard error of alpha estimates.\n",
    "    rng = np.random.default_rng(seed)\n",
    "    n =D.shape[0] \n",
    "    # Loop through B bootstrap samples\n",
    "    for i in range(B):\n",
    "        idx = rng.choice(D.index, n, replace=True)\n",
    "        value = alpha_func(D, idx) \n",
    "        # Compute the standard deviation of the bootstrap value\n",
    "        bootstrap_values.append(value) \n",
    "    return np.std(np.array(bootstrap_values))"
   ]
  },
  {
   "cell_type": "markdown",
   "id": "8a543472",
   "metadata": {},
   "source": [
    "_(v)_ Evaluate the accuracy of our alpha estimate with B = 1000"
   ]
  },
  {
   "cell_type": "code",
   "execution_count": 56,
   "id": "9ed41c4e",
   "metadata": {},
   "outputs": [
    {
     "name": "stdout",
     "output_type": "stream",
     "text": [
      "Bootstrap Standard Error of Alpha: 0.03180510076860766\n"
     ]
    }
   ],
   "source": [
    "\n",
    "# evaluate the accuray of alpha with B = 1000\n",
    "alpha_SE = boot_SE(df, B=1000, seed=0)\n",
    "print(f\"Bootstrap Standard Error of Alpha: {alpha_SE}\")"
   ]
  },
  {
   "cell_type": "markdown",
   "id": "2e5e0c7f",
   "metadata": {},
   "source": [
    "_(vi)_ What is the original mean value of `Sepal.Length`?"
   ]
  },
  {
   "cell_type": "code",
   "execution_count": 59,
   "id": "7c9d5004",
   "metadata": {},
   "outputs": [
    {
     "name": "stdout",
     "output_type": "stream",
     "text": [
      "The original mean value of Sepal.Length is: 5.843333333333334\n"
     ]
    }
   ],
   "source": [
    "# Calculate the mean value of Sepal.Length\n",
    "mean_sepal_length = df['Sepal.Length'].mean()\n",
    "\n",
    "print(f\"The original mean value of Sepal.Length is: {mean_sepal_length}\")"
   ]
  },
  {
   "cell_type": "markdown",
   "id": "785fe758-f395-40b6-a9a3-28ec2efeba29",
   "metadata": {},
   "source": [
    "Next, let's create a new bootstrapping to bootstrap samples (`boot_se_samples`) of `Sepal.Length`, in order to compute its bootstrapped mean and standard deviation.\n",
    "\n",
    "_(vii)_. Write code to review the bootstrapped mean value, and the standard deviation of the bootstrapped samples. Compare the mean against its original value. Then, review the bootstrapped range, by using `t_range = np.ptp(boot_se_samples)`."
   ]
  },
  {
   "cell_type": "code",
   "execution_count": 67,
   "id": "7686243c",
   "metadata": {},
   "outputs": [
    {
     "name": "stdout",
     "output_type": "stream",
     "text": [
      "Bootstrapped mean: 5.842284666666666\n",
      "Bootstrapped standard deviation: 0.06649295592099295\n",
      "Range of bootstrapped means: 0.3873333333333342\n"
     ]
    }
   ],
   "source": [
    "# Defines a function bootstrap_sample_mean that calculates bootstrapped sample means.\n",
    "def bootstrap_sample_mean(data, n=None, B=1000, seed=0):\n",
    "    rng = np.random.default_rng(seed) # Initialize random number generator with seed\n",
    "    n = n or len(data) # Set number of elements to sample for each bootstrap sample\n",
    "    bootstrap_means = [] # Initialize empty list to store bootstrap sample means\n",
    "\n",
    "# Generate B bootstrap samples and compute mean for each\n",
    "    for _ in range(B):\n",
    "        sample = rng.choice(data, n, replace=True)\n",
    "        bootstrap_means.append(np.mean(sample))\n",
    "\n",
    "    bootstrap_means = np.array(bootstrap_means)\n",
    "    bootstrapped_mean = np.array(np.mean(bootstrap_means))\n",
    "    bootstrapped_std = np.std(bootstrap_means)\n",
    "    t_range = np.ptp(bootstrap_means)\n",
    "\n",
    "    return bootstrapped_mean, bootstrapped_std, t_range, bootstrap_means\n",
    "\n",
    "# Assuming df is your DataFrame containing the data\n",
    "sepal_length = df['Sepal.Length'].values\n",
    "\n",
    "# Perform bootstrapping to compute mean, std, and range of bootstrapped sample means\n",
    "boot_mean, boot_std, t_range, boot_samples = bootstrap_sample_mean(sepal_length, B=1000, seed=0)\n",
    "\n",
    "# Print results\n",
    "print(f\"Bootstrapped mean: {boot_mean}\")\n",
    "print(f\"Bootstrapped standard deviation: {boot_std}\")\n",
    "print(f\"Range of bootstrapped means: {t_range}\")"
   ]
  },
  {
   "cell_type": "markdown",
   "id": "66c6c663-f3bb-4a15-8896-6dccfb7259fd",
   "metadata": {},
   "source": [
    "_(viii)_ Next, let's compute 95% confidence intervals, for the mean value of iris sepal length. (Hint: use the `np.percentile` function)"
   ]
  },
  {
   "cell_type": "code",
   "execution_count": 73,
   "id": "74de4a76-e500-4c93-82a9-e7365cc86c91",
   "metadata": {},
   "outputs": [
    {
     "name": "stdout",
     "output_type": "stream",
     "text": [
      "95-percent confidence interval for the mean of iris sepal length:  [5.71861667 5.97471667]\n"
     ]
    }
   ],
   "source": [
    "# Compute the 95% confidence intervals\n",
    "conf_interval = np.percentile(boot_samples, [2.5, 97.5])\n",
    "\n",
    "print(\"95-percent confidence interval for the mean of iris sepal length: \", conf_interval)"
   ]
  },
  {
   "cell_type": "markdown",
   "id": "488e54f7-ebe4-4740-835c-9832320005d0",
   "metadata": {},
   "source": [
    "_(ix)_. Use the plot function to create an histogram of the bootstrapped samples. What does this histogram show ?"
   ]
  },
  {
   "cell_type": "code",
   "execution_count": 90,
   "id": "4fca4e3f",
   "metadata": {},
   "outputs": [
    {
     "data": {
      "image/png": "[encoded data removed]",
      "text/plain": [
       "<Figure size 640x480 with 1 Axes>"
      ]
     },
     "metadata": {},
     "output_type": "display_data"
    }
   ],
   "source": [
    "#Complete this\n",
    "\n",
    "# Create a figure and axis\n",
    "fig, ax = plt.subplots()\n",
    "\n",
    "# Create the histogram\n",
    "ax.hist(boot_samples, bins=30, color='royalblue', edgecolor='black')\n",
    "\n",
    "# Add a title\n",
    "ax.set_title('Histogram of Bootstrapped Mean Values of Sepal.Length')\n",
    "\n",
    "# Add a label to the x-axis\n",
    "ax.set_xlabel('Bootstrapped Mean of Sepal.Length')\n",
    "\n",
    "# Add a label to the y-axis\n",
    "ax.set_ylabel('Frequency')\n",
    "\n",
    "# Show the plot\n",
    "plt.show()"
   ]
  },
  {
   "cell_type": "markdown",
   "id": "bfa9a095-9c7a-4ab5-aa99-b11bf419fae0",
   "metadata": {},
   "source": [
    "_(x)_ Given your bootstrapped analysis, what do you recommend to shipping company? "
   ]
  },
  {
   "cell_type": "code",
   "execution_count": null,
   "id": "5e83202e-4aab-44bb-8586-5d0e82e9e201",
   "metadata": {},
   "outputs": [],
   "source": [
    "Based on the initial analysis of mean Sepal.Length from the Iris data set, \n",
    "I recommend using the estimated mean Sepal.Length along with its 95% confidence interval to make decisions about pack sizes \n",
    "or logistics planning with confidence in the accuracy and variability of the estimates."
   ]
  },
  {
   "cell_type": "markdown",
   "id": "466943e8",
   "metadata": {},
   "source": [
    "# Criteria\n",
    "\n",
    "|Criteria            |Complete           |Incomplete          |\n",
    "|--------------------|---------------|--------------|\n",
    "|Bootstrapping|All steps are done correctly and the answers are correct.|At least one step is done incorrectly leading to a wrong answer.|"
   ]
  },
  {
   "cell_type": "markdown",
   "id": "68b8a226",
   "metadata": {},
   "source": [
    "## Submission Information\n",
    "\n",
    "🚨 **Please review our [Assignment Submission Guide](https://github.com/UofT-DSI/onboarding/blob/main/onboarding_documents/submissions.md)** 🚨 for detailed instructions on how to format, branch, and submit your work. Following these guidelines is crucial for your submissions to be evaluated correctly.\n",
    "\n",
    "### Note:\n",
    "\n",
    "If you like, you may collaborate with others in the cohort. If you choose to do so, please indicate with whom you have worked with in your pull request by tagging their GitHub username. Separate submissions are required.\n",
    "\n",
    "\n",
    "### Submission Parameters:\n",
    "* Submission Due Date: `HH:MM AM/PM - DD/MM/YYYY`\n",
    "* The branch name for your repo should be: `assignment-3`\n",
    "* What to submit for this assignment:\n",
    "    * This Jupyter Notebook (assignment_3.ipynb) should be populated and should be the only change in your pull request.\n",
    "* What the pull request link should look like for this assignment: `https://github.com/<your_github_username>/applying_statistical_concepts/pull/<pr_id>`\n",
    "    * Open a private window in your browser. Copy and paste the link to your pull request into the address bar. Make sure you can see your pull request properly. This helps the technical facilitator and learning support staff review your submission easily.\n",
    "\n",
    "Checklist:\n",
    "- [ ] Created a branch with the correct naming convention.\n",
    "- [ ] Ensured that the repository is public.\n",
    "- [ ] Reviewed the PR description guidelines and adhered to them.\n",
    "- [ ] Verify that the link is accessible in a private browser window.\n",
    "\n",
    "If you encounter any difficulties or have questions, please don't hesitate to reach out to our team via our Slack at `#cohort-3-help`. Our Technical Facilitators and Learning Support staff are here to help you navigate any challenges.\n"
   ]
  }
 ],
 "metadata": {
  "kernelspec": {
   "display_name": "Python 3.10.4",
   "language": "python",
   "name": "python3"
  },
  "language_info": {
   "codemirror_mode": {
    "name": "ipython",
    "version": 3
   },
   "file_extension": ".py",
   "mimetype": "text/x-python",
   "name": "python",
   "nbconvert_exporter": "python",
   "pygments_lexer": "ipython3",
   "version": "3.11.0"
  },
  "vscode": {
   "interpreter": {
    "hash": "497a84dc8fec8cf8d24e7e87b6d954c9a18a327edc66feb9b9ea7e9e72cc5c7e"
   }
  }
 },
 "nbformat": 4,
 "nbformat_minor": 5
}
